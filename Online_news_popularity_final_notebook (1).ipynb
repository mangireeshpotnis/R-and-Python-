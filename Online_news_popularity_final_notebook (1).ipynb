{
  "nbformat": 4,
  "nbformat_minor": 0,
  "metadata": {
    "colab": {
      "name": "Online_news_popularity_final_notebook.ipynb",
      "provenance": [],
      "collapsed_sections": []
    },
    "kernelspec": {
      "name": "python3",
      "display_name": "Python 3"
    }
  },
  "cells": [
    {
      "cell_type": "code",
      "metadata": {
        "id": "YYSxcQ2Q7GP5",
        "colab_type": "code",
        "colab": {}
      },
      "source": [
        "import pandas as pd\n",
        "import numpy as np\n",
        "import matplotlib.pyplot as plt\n",
        "import seaborn as sns\n",
        "from sklearn.datasets import make_classification\n",
        "from sklearn.neighbors import KNeighborsClassifier\n",
        "from sklearn.ensemble import RandomForestClassifier, ExtraTreesClassifier\n",
        "from sklearn.model_selection import train_test_split\n",
        "from sklearn.feature_selection import SelectKBest, RFE, f_classif\n",
        "from sklearn.linear_model import LogisticRegression\n",
        "from sklearn.preprocessing import MinMaxScaler\n",
        "from sklearn.metrics import roc_auc_score, accuracy_score, log_loss, recall_score, precision_score"
      ],
      "execution_count": 0,
      "outputs": []
    },
    {
      "cell_type": "code",
      "metadata": {
        "id": "vsdWvugt8Exa",
        "colab_type": "code",
        "colab": {}
      },
      "source": [
        "!pip install -U -q PyDrive\n",
        "from pydrive.auth import GoogleAuth\n",
        "from pydrive.drive import GoogleDrive\n",
        "from google.colab import auth\n",
        "from oauth2client.client import GoogleCredentials"
      ],
      "execution_count": 0,
      "outputs": []
    },
    {
      "cell_type": "code",
      "metadata": {
        "id": "4XziUDTV8viK",
        "colab_type": "code",
        "colab": {}
      },
      "source": [
        "auth.authenticate_user()\n",
        "gauth = GoogleAuth()\n",
        "gauth.credentials = GoogleCredentials.get_application_default()\n",
        "drive = GoogleDrive(gauth)"
      ],
      "execution_count": 0,
      "outputs": []
    },
    {
      "cell_type": "code",
      "metadata": {
        "id": "twUPs1xw8yRS",
        "colab_type": "code",
        "colab": {}
      },
      "source": [
        "downloaded = drive.CreateFile({'id':'1Ej-GyEuymw1ibryRYiH7daLFVOhn0qNN'}) \n",
        "downloaded.GetContentFile('edited_data.csv') "
      ],
      "execution_count": 0,
      "outputs": []
    },
    {
      "cell_type": "code",
      "metadata": {
        "id": "m_TyI0co9G1K",
        "colab_type": "code",
        "colab": {}
      },
      "source": [
        "\"\"\" Importing Dataset \"\"\"\n",
        "online_data = pd.read_csv('edited_data.csv')\n",
        "online_data.drop(\"Unnamed: 0\", axis = 1, inplace = True)"
      ],
      "execution_count": 0,
      "outputs": []
    },
    {
      "cell_type": "code",
      "metadata": {
        "id": "sOoGiZax9Odo",
        "colab_type": "code",
        "outputId": "e74b30b5-60f5-4705-a261-58d666bd72c4",
        "colab": {
          "base_uri": "https://localhost:8080/",
          "height": 374
        }
      },
      "source": [
        "online_data.columns"
      ],
      "execution_count": 0,
      "outputs": [
        {
          "output_type": "execute_result",
          "data": {
            "text/plain": [
              "Index(['n_tokens_title', 'n_tokens_content', 'n_unique_tokens',\n",
              "       'n_non_stop_words', 'n_non_stop_unique_tokens', 'num_hrefs',\n",
              "       'num_self_hrefs', 'num_imgs', 'num_videos', 'average_token_length',\n",
              "       'num_keywords', 'data_channel_is_lifestyle',\n",
              "       'data_channel_is_entertainment', 'data_channel_is_bus',\n",
              "       'data_channel_is_socmed', 'data_channel_is_tech',\n",
              "       'data_channel_is_world', 'kw_min_min', 'kw_max_min', 'kw_avg_min',\n",
              "       'kw_min_max', 'kw_max_max', 'kw_avg_max', 'kw_min_avg', 'kw_max_avg',\n",
              "       'kw_avg_avg', 'self_reference_min_shares', 'self_reference_max_shares',\n",
              "       'self_reference_avg_sharess', 'weekday_is_monday', 'weekday_is_tuesday',\n",
              "       'weekday_is_wednesday', 'weekday_is_thursday', 'weekday_is_friday',\n",
              "       'weekday_is_saturday', 'weekday_is_sunday', 'LDA_00', 'LDA_01',\n",
              "       'LDA_02', 'LDA_03', 'LDA_04', 'global_subjectivity',\n",
              "       'global_sentiment_polarity', 'global_rate_positive_words',\n",
              "       'global_rate_negative_words', 'rate_positive_words',\n",
              "       'rate_negative_words', 'avg_positive_polarity', 'min_positive_polarity',\n",
              "       'max_positive_polarity', 'avg_negative_polarity',\n",
              "       'min_negative_polarity', 'max_negative_polarity', 'title_subjectivity',\n",
              "       'title_sentiment_polarity', 'abs_title_subjectivity',\n",
              "       'abs_title_sentiment_polarity', 'target'],\n",
              "      dtype='object')"
            ]
          },
          "metadata": {
            "tags": []
          },
          "execution_count": 4
        }
      ]
    },
    {
      "cell_type": "code",
      "metadata": {
        "id": "PKq9B8HW9Tyd",
        "colab_type": "code",
        "outputId": "6fc29793-2b07-4b03-cebc-11fa700efd03",
        "colab": {
          "base_uri": "https://localhost:8080/",
          "height": 1000
        }
      },
      "source": [
        "for i in online_data.columns:\n",
        "  print(i,':',len(online_data[i].unique()),'labels')"
      ],
      "execution_count": 0,
      "outputs": [
        {
          "output_type": "stream",
          "text": [
            "n_tokens_title : 20 labels\n",
            "n_tokens_content : 2395 labels\n",
            "n_unique_tokens : 27214 labels\n",
            "n_non_stop_words : 1444 labels\n",
            "n_non_stop_unique_tokens : 22876 labels\n",
            "num_hrefs : 133 labels\n",
            "num_self_hrefs : 59 labels\n",
            "num_imgs : 88 labels\n",
            "num_videos : 53 labels\n",
            "average_token_length : 30056 labels\n",
            "num_keywords : 10 labels\n",
            "data_channel_is_lifestyle : 2 labels\n",
            "data_channel_is_entertainment : 2 labels\n",
            "data_channel_is_bus : 2 labels\n",
            "data_channel_is_socmed : 2 labels\n",
            "data_channel_is_tech : 2 labels\n",
            "data_channel_is_world : 2 labels\n",
            "kw_min_min : 26 labels\n",
            "kw_max_min : 1046 labels\n",
            "kw_avg_min : 16934 labels\n",
            "kw_min_max : 1018 labels\n",
            "kw_max_max : 35 labels\n",
            "kw_avg_max : 30755 labels\n",
            "kw_min_avg : 15934 labels\n",
            "kw_max_avg : 19385 labels\n",
            "kw_avg_avg : 39179 labels\n",
            "self_reference_min_shares : 1255 labels\n",
            "self_reference_max_shares : 1137 labels\n",
            "self_reference_avg_sharess : 8602 labels\n",
            "weekday_is_monday : 2 labels\n",
            "weekday_is_tuesday : 2 labels\n",
            "weekday_is_wednesday : 2 labels\n",
            "weekday_is_thursday : 2 labels\n",
            "weekday_is_friday : 2 labels\n",
            "weekday_is_saturday : 2 labels\n",
            "weekday_is_sunday : 2 labels\n",
            "LDA_00 : 39217 labels\n",
            "LDA_01 : 38977 labels\n",
            "LDA_02 : 39403 labels\n",
            "LDA_03 : 38844 labels\n",
            "LDA_04 : 39249 labels\n",
            "global_subjectivity : 34404 labels\n",
            "global_sentiment_polarity : 34592 labels\n",
            "global_rate_positive_words : 13131 labels\n",
            "global_rate_negative_words : 10247 labels\n",
            "rate_positive_words : 2276 labels\n",
            "rate_negative_words : 2276 labels\n",
            "avg_positive_polarity : 27231 labels\n",
            "min_positive_polarity : 33 labels\n",
            "max_positive_polarity : 38 labels\n",
            "avg_negative_polarity : 13812 labels\n",
            "min_negative_polarity : 54 labels\n",
            "max_negative_polarity : 49 labels\n",
            "title_subjectivity : 673 labels\n",
            "title_sentiment_polarity : 812 labels\n",
            "abs_title_subjectivity : 532 labels\n",
            "abs_title_sentiment_polarity : 652 labels\n",
            "target : 2 labels\n"
          ],
          "name": "stdout"
        }
      ]
    },
    {
      "cell_type": "code",
      "metadata": {
        "id": "_XCXK21F9aRi",
        "colab_type": "code",
        "outputId": "868a37e9-c001-48d5-aea2-b8bc24f2becc",
        "colab": {
          "base_uri": "https://localhost:8080/",
          "height": 296
        }
      },
      "source": [
        "\"\"\"to check whether the target feature is balanced or imbalanced\"\"\"\n",
        "sns.countplot(x = \"target\", data = online_data, palette = \"viridis\")"
      ],
      "execution_count": 0,
      "outputs": [
        {
          "output_type": "execute_result",
          "data": {
            "text/plain": [
              "<matplotlib.axes._subplots.AxesSubplot at 0x7f54a97364a8>"
            ]
          },
          "metadata": {
            "tags": []
          },
          "execution_count": 6
        },
        {
          "output_type": "display_data",
          "data": {
            "image/png": "[encoded data removed]",
            "text/plain": [
              "<Figure size 432x288 with 1 Axes>"
            ]
          },
          "metadata": {
            "tags": []
          }
        }
      ]
    },
    {
      "cell_type": "code",
      "metadata": {
        "id": "-Oe95Gjq9aFf",
        "colab_type": "code",
        "colab": {}
      },
      "source": [
        "\"\"\"feature scaling\"\"\"\n",
        "scaler = MinMaxScaler()\n",
        "X = online_data.drop(\"target\", axis = 1)\n",
        "Y = online_data['target']\n",
        "X[X.columns] = scaler.fit_transform(X[X.columns])"
      ],
      "execution_count": 0,
      "outputs": []
    },
    {
      "cell_type": "code",
      "metadata": {
        "id": "izHIjgXj9Z_X",
        "colab_type": "code",
        "colab": {}
      },
      "source": [
        "\"\"\"feature selection techniques and their comparison\"\"\"\n",
        "\"\"\"METHOD 1 : feature selection : Kbest\"\"\"\n",
        "kbest = SelectKBest(score_func = f_classif, k = 12)\n",
        "kfit = kbest.fit(X,Y)\n",
        "scores = pd.DataFrame(kfit.scores_)\n",
        "columns = pd.DataFrame(X.columns)\n",
        "kbest_FeatureScores = pd.concat([columns, scores], axis = 1)\n",
        "kbest_FeatureScores.columns = [\"feature\", \"score\"]"
      ],
      "execution_count": 0,
      "outputs": []
    },
    {
      "cell_type": "code",
      "metadata": {
        "id": "OycaZWcj9Z5h",
        "colab_type": "code",
        "outputId": "16cd4cde-ce2c-4e64-e177-af69cd7a29e0",
        "colab": {
          "base_uri": "https://localhost:8080/",
          "height": 646
        }
      },
      "source": [
        "print(kbest_FeatureScores.nlargest(36,'score'))"
      ],
      "execution_count": 0,
      "outputs": [
        {
          "output_type": "stream",
          "text": [
            "                          feature        score\n",
            "25                     kw_avg_avg  1109.064201\n",
            "38                         LDA_02  1034.137605\n",
            "16          data_channel_is_world   959.758789\n",
            "12  data_channel_is_entertainment   524.473854\n",
            "14         data_channel_is_socmed   502.754873\n",
            "34            weekday_is_saturday   474.895111\n",
            "15           data_channel_is_tech   422.287504\n",
            "40                         LDA_04   359.317454\n",
            "5                       num_hrefs   322.828967\n",
            "23                     kw_min_avg   322.598210\n",
            "35              weekday_is_sunday   278.105160\n",
            "37                         LDA_01   252.174705\n",
            "24                     kw_max_avg   245.407210\n",
            "42      global_sentiment_polarity   215.038039\n",
            "10                   num_keywords   212.121840\n",
            "46            rate_negative_words   202.767462\n",
            "36                         LDA_00   181.196827\n",
            "41            global_subjectivity   180.599982\n",
            "7                        num_imgs   173.787436\n",
            "28     self_reference_avg_sharess   170.465684\n",
            "27      self_reference_max_shares   147.381797\n",
            "43     global_rate_positive_words   145.322274\n",
            "39                         LDA_03   135.927794\n",
            "54       title_sentiment_polarity   112.957924\n",
            "26      self_reference_min_shares   111.527139\n",
            "19                     kw_avg_min   108.392354\n",
            "17                     kw_min_min   103.826143\n",
            "31           weekday_is_wednesday    79.624264\n",
            "0                  n_tokens_title    76.552374\n",
            "45            rate_positive_words    70.625244\n",
            "49          max_positive_polarity    68.972603\n",
            "1                n_tokens_content    66.182041\n",
            "56   abs_title_sentiment_polarity    64.622050\n",
            "6                  num_self_hrefs    63.741897\n",
            "30             weekday_is_tuesday    56.147711\n",
            "11      data_channel_is_lifestyle    54.293556\n"
          ],
          "name": "stdout"
        }
      ]
    },
    {
      "cell_type": "code",
      "metadata": {
        "id": "I36YQLID9Zze",
        "colab_type": "code",
        "colab": {}
      },
      "source": [
        "X_kbest = X[['kw_avg_avg','LDA_02','data_channel_is_world','data_channel_is_entertainment','data_channel_is_socmed','weekday_is_saturday','data_channel_is_tech','kw_min_avg','LDA_04','num_hrefs','kw_max_avg','weekday_is_sunday','LDA_01','kw_avg_min','global_sentiment_polarity','num_keywords','global_subjectivity','rate_negative_words','num_imgs','LDA_00','self_reference_avg_sharess','LDA_03','global_rate_positive_words','self_reference_max_shares','n_non_stop_unique_tokens','title_sentiment_polarity','kw_max_min','self_reference_min_shares','kw_min_min','n_unique_tokens','n_tokens_title','weekday_is_wednesday','abs_title_sentiment_polarity','n_tokens_content']]\n"
      ],
      "execution_count": 0,
      "outputs": []
    },
    {
      "cell_type": "code",
      "metadata": {
        "id": "8HpkXBHv9ZuY",
        "colab_type": "code",
        "outputId": "84ce1c85-2409-4748-ec49-5a768038e278",
        "colab": {
          "base_uri": "https://localhost:8080/",
          "height": 51
        }
      },
      "source": [
        "#We're gonna fit a logistic model on these features\n",
        "x_train1, x_test1, y_train1, y_test1 = train_test_split(X_kbest, Y, test_size = 0.3, random_state = 1)\n",
        "#fitting the classifier\n",
        "log1 = LogisticRegression()\n",
        "log1.fit(x_train1, y_train1)\n",
        "#prediction and accuracy\n",
        "y_pred1 = log1.predict(x_test1)\n"
      ],
      "execution_count": 0,
      "outputs": [
        {
          "output_type": "stream",
          "text": [
            "/usr/local/lib/python3.6/dist-packages/sklearn/linear_model/logistic.py:432: FutureWarning: Default solver will be changed to 'lbfgs' in 0.22. Specify a solver to silence this warning.\n",
            "  FutureWarning)\n"
          ],
          "name": "stderr"
        }
      ]
    },
    {
      "cell_type": "code",
      "metadata": {
        "id": "n-a5rdL89Zpz",
        "colab_type": "code",
        "outputId": "0e979632-d9f9-444d-ef06-739539b511e3",
        "colab": {
          "base_uri": "https://localhost:8080/",
          "height": 173
        }
      },
      "source": [
        "pd.DataFrame(data=[accuracy_score(y_test1, y_pred1), recall_score(y_test1, y_pred1),\n",
        "                   precision_score(y_test1, y_pred1), roc_auc_score(y_test1, y_pred1)], \n",
        "             index=[\"accuracy\", \"recall\", \"precision\", \"roc_auc_score\"])\n",
        "#After fitting the model on our selected features, we get the following results \n"
      ],
      "execution_count": 0,
      "outputs": [
        {
          "output_type": "execute_result",
          "data": {
            "text/html": [
              "<div>\n",
              "<style scoped>\n",
              "    .dataframe tbody tr th:only-of-type {\n",
              "        vertical-align: middle;\n",
              "    }\n",
              "\n",
              "    .dataframe tbody tr th {\n",
              "        vertical-align: top;\n",
              "    }\n",
              "\n",
              "    .dataframe thead th {\n",
              "        text-align: right;\n",
              "    }\n",
              "</style>\n",
              "<table border=\"1\" class=\"dataframe\">\n",
              "  <thead>\n",
              "    <tr style=\"text-align: right;\">\n",
              "      <th></th>\n",
              "      <th>0</th>\n",
              "    </tr>\n",
              "  </thead>\n",
              "  <tbody>\n",
              "    <tr>\n",
              "      <th>accuracy</th>\n",
              "      <td>0.650502</td>\n",
              "    </tr>\n",
              "    <tr>\n",
              "      <th>recall</th>\n",
              "      <td>0.707329</td>\n",
              "    </tr>\n",
              "    <tr>\n",
              "      <th>precision</th>\n",
              "      <td>0.665047</td>\n",
              "    </tr>\n",
              "    <tr>\n",
              "      <th>roc_auc_score</th>\n",
              "      <td>0.645750</td>\n",
              "    </tr>\n",
              "  </tbody>\n",
              "</table>\n",
              "</div>"
            ],
            "text/plain": [
              "                      0\n",
              "accuracy       0.650502\n",
              "recall         0.707329\n",
              "precision      0.665047\n",
              "roc_auc_score  0.645750"
            ]
          },
          "metadata": {
            "tags": []
          },
          "execution_count": 12
        }
      ]
    },
    {
      "cell_type": "code",
      "metadata": {
        "id": "zmsgtuGB9ZjV",
        "colab_type": "code",
        "outputId": "4579d9f2-47db-4c0a-b051-6faeb7990cd9",
        "colab": {
          "base_uri": "https://localhost:8080/",
          "height": 34
        }
      },
      "source": [
        "y_pred1l = log1.predict_proba(x_test1)\n",
        "log_loss(y_test1, y_pred1l, eps=1e-15, normalize=True, sample_weight=None, labels=None)    \n"
      ],
      "execution_count": 0,
      "outputs": [
        {
          "output_type": "execute_result",
          "data": {
            "text/plain": [
              "0.6294183034701936"
            ]
          },
          "metadata": {
            "tags": []
          },
          "execution_count": 13
        }
      ]
    },
    {
      "cell_type": "code",
      "metadata": {
        "id": "ci0V5jEt9Zdy",
        "colab_type": "code",
        "outputId": "7791fa53-8a1a-4511-e843-ee5ee2ecff54",
        "colab": {
          "base_uri": "https://localhost:8080/",
          "height": 51
        }
      },
      "source": [
        "\"\"\" METHOD 2 : feature importance\"\"\"\n",
        "fi = LogisticRegression()\n",
        "fi.fit(X,Y)\n",
        "feat_importances = pd.Series(fi.feature_importances_, index=X.columns)\n",
        "feat_importances\n",
        "f = feat_importances.sort_values( ascending = False )\n",
        "final = pd.DataFrame(f)\n",
        "final['features'] = final.index\n"
      ],
      "execution_count": 0,
      "outputs": [
        {
          "output_type": "stream",
          "text": [
            "/usr/local/lib/python3.6/dist-packages/sklearn/ensemble/forest.py:245: FutureWarning: The default value of n_estimators will change from 10 in version 0.20 to 100 in 0.22.\n",
            "  \"10 in version 0.20 to 100 in 0.22.\", FutureWarning)\n"
          ],
          "name": "stderr"
        }
      ]
    },
    {
      "cell_type": "code",
      "metadata": {
        "id": "baPU6iBl9ZXt",
        "colab_type": "code",
        "outputId": "aab72806-2850-4708-a555-73ca9b2b6c31",
        "colab": {
          "base_uri": "https://localhost:8080/",
          "height": 51
        }
      },
      "source": [
        "#We will also 36 features for this column too\n",
        "feat = final.iloc[0:36,1]\n",
        "X_features = X[feat]\n",
        "#We will see the results of logistic model using the features selected by this method\n",
        "x_train2, x_test2, y_train2, y_test2 = train_test_split(X_features, Y, test_size = 0.3, random_state = 1)\n",
        "#fitting the classifier\n",
        "log2 = LogisticRegression()\n",
        "log2.fit(x_train2, y_train2)\n",
        "y_pred2 = log2.predict(x_test2)\n"
      ],
      "execution_count": 0,
      "outputs": [
        {
          "output_type": "stream",
          "text": [
            "/usr/local/lib/python3.6/dist-packages/sklearn/linear_model/logistic.py:432: FutureWarning: Default solver will be changed to 'lbfgs' in 0.22. Specify a solver to silence this warning.\n",
            "  FutureWarning)\n"
          ],
          "name": "stderr"
        }
      ]
    },
    {
      "cell_type": "code",
      "metadata": {
        "id": "SvlKUoC89ZSd",
        "colab_type": "code",
        "outputId": "561d67f1-9ce6-4f88-97f1-7d01f4aa3943",
        "colab": {
          "base_uri": "https://localhost:8080/",
          "height": 173
        }
      },
      "source": [
        "pd.DataFrame(data=[accuracy_score(y_test2, y_pred2), recall_score(y_test2, y_pred2),\n",
        "                   precision_score(y_test2, y_pred2), roc_auc_score(y_test2, y_pred2)], \n",
        "             index=[\"accuracy\", \"recall\", \"precision\", \"roc_auc_score\"])\n",
        "#After fitting the model on these features, we get following results\n"
      ],
      "execution_count": 0,
      "outputs": [
        {
          "output_type": "execute_result",
          "data": {
            "text/html": [
              "<div>\n",
              "<style scoped>\n",
              "    .dataframe tbody tr th:only-of-type {\n",
              "        vertical-align: middle;\n",
              "    }\n",
              "\n",
              "    .dataframe tbody tr th {\n",
              "        vertical-align: top;\n",
              "    }\n",
              "\n",
              "    .dataframe thead th {\n",
              "        text-align: right;\n",
              "    }\n",
              "</style>\n",
              "<table border=\"1\" class=\"dataframe\">\n",
              "  <thead>\n",
              "    <tr style=\"text-align: right;\">\n",
              "      <th></th>\n",
              "      <th>0</th>\n",
              "    </tr>\n",
              "  </thead>\n",
              "  <tbody>\n",
              "    <tr>\n",
              "      <th>accuracy</th>\n",
              "      <td>0.624779</td>\n",
              "    </tr>\n",
              "    <tr>\n",
              "      <th>recall</th>\n",
              "      <td>0.712496</td>\n",
              "    </tr>\n",
              "    <tr>\n",
              "      <th>precision</th>\n",
              "      <td>0.635209</td>\n",
              "    </tr>\n",
              "    <tr>\n",
              "      <th>roc_auc_score</th>\n",
              "      <td>0.617443</td>\n",
              "    </tr>\n",
              "  </tbody>\n",
              "</table>\n",
              "</div>"
            ],
            "text/plain": [
              "                      0\n",
              "accuracy       0.624779\n",
              "recall         0.712496\n",
              "precision      0.635209\n",
              "roc_auc_score  0.617443"
            ]
          },
          "metadata": {
            "tags": []
          },
          "execution_count": 16
        }
      ]
    },
    {
      "cell_type": "code",
      "metadata": {
        "id": "h3HTPKrk9ZMl",
        "colab_type": "code",
        "outputId": "bc44b081-b080-407b-f010-04fa4cfbc783",
        "colab": {
          "base_uri": "https://localhost:8080/",
          "height": 34
        }
      },
      "source": [
        "y_pred2l = log2.predict_proba(x_test2)\n",
        "log_loss(y_test2, y_pred2l, eps=1e-15, normalize=True, sample_weight=None, labels=None)    \n"
      ],
      "execution_count": 0,
      "outputs": [
        {
          "output_type": "execute_result",
          "data": {
            "text/plain": [
              "0.6485885103134553"
            ]
          },
          "metadata": {
            "tags": []
          },
          "execution_count": 17
        }
      ]
    },
    {
      "cell_type": "code",
      "metadata": {
        "id": "i1unzTwK9ZG_",
        "colab_type": "code",
        "outputId": "7c354872-6a0c-4c44-8127-a9eec3e8f0d2",
        "colab": {
          "base_uri": "https://localhost:8080/",
          "height": 1000
        }
      },
      "source": [
        "\"\"\" METHOD 3 : recursive feature elimination  \"\"\"\n",
        "log3 = LogisticRegression()\n",
        "rfe = RFE(estimator = log3,step = 1)\n",
        "rfe = rfe.fit(X,Y)\n"
      ],
      "execution_count": 0,
      "outputs": [
        {
          "output_type": "stream",
          "text": [
            "/usr/local/lib/python3.6/dist-packages/sklearn/linear_model/logistic.py:432: FutureWarning: Default solver will be changed to 'lbfgs' in 0.22. Specify a solver to silence this warning.\n",
            "  FutureWarning)\n",
            "/usr/local/lib/python3.6/dist-packages/sklearn/linear_model/logistic.py:432: FutureWarning: Default solver will be changed to 'lbfgs' in 0.22. Specify a solver to silence this warning.\n",
            "  FutureWarning)\n",
            "/usr/local/lib/python3.6/dist-packages/sklearn/linear_model/logistic.py:432: FutureWarning: Default solver will be changed to 'lbfgs' in 0.22. Specify a solver to silence this warning.\n",
            "  FutureWarning)\n",
            "/usr/local/lib/python3.6/dist-packages/sklearn/linear_model/logistic.py:432: FutureWarning: Default solver will be changed to 'lbfgs' in 0.22. Specify a solver to silence this warning.\n",
            "  FutureWarning)\n",
            "/usr/local/lib/python3.6/dist-packages/sklearn/linear_model/logistic.py:432: FutureWarning: Default solver will be changed to 'lbfgs' in 0.22. Specify a solver to silence this warning.\n",
            "  FutureWarning)\n",
            "/usr/local/lib/python3.6/dist-packages/sklearn/linear_model/logistic.py:432: FutureWarning: Default solver will be changed to 'lbfgs' in 0.22. Specify a solver to silence this warning.\n",
            "  FutureWarning)\n",
            "/usr/local/lib/python3.6/dist-packages/sklearn/linear_model/logistic.py:432: FutureWarning: Default solver will be changed to 'lbfgs' in 0.22. Specify a solver to silence this warning.\n",
            "  FutureWarning)\n",
            "/usr/local/lib/python3.6/dist-packages/sklearn/linear_model/logistic.py:432: FutureWarning: Default solver will be changed to 'lbfgs' in 0.22. Specify a solver to silence this warning.\n",
            "  FutureWarning)\n",
            "/usr/local/lib/python3.6/dist-packages/sklearn/linear_model/logistic.py:432: FutureWarning: Default solver will be changed to 'lbfgs' in 0.22. Specify a solver to silence this warning.\n",
            "  FutureWarning)\n",
            "/usr/local/lib/python3.6/dist-packages/sklearn/linear_model/logistic.py:432: FutureWarning: Default solver will be changed to 'lbfgs' in 0.22. Specify a solver to silence this warning.\n",
            "  FutureWarning)\n",
            "/usr/local/lib/python3.6/dist-packages/sklearn/linear_model/logistic.py:432: FutureWarning: Default solver will be changed to 'lbfgs' in 0.22. Specify a solver to silence this warning.\n",
            "  FutureWarning)\n",
            "/usr/local/lib/python3.6/dist-packages/sklearn/linear_model/logistic.py:432: FutureWarning: Default solver will be changed to 'lbfgs' in 0.22. Specify a solver to silence this warning.\n",
            "  FutureWarning)\n",
            "/usr/local/lib/python3.6/dist-packages/sklearn/linear_model/logistic.py:432: FutureWarning: Default solver will be changed to 'lbfgs' in 0.22. Specify a solver to silence this warning.\n",
            "  FutureWarning)\n",
            "/usr/local/lib/python3.6/dist-packages/sklearn/linear_model/logistic.py:432: FutureWarning: Default solver will be changed to 'lbfgs' in 0.22. Specify a solver to silence this warning.\n",
            "  FutureWarning)\n",
            "/usr/local/lib/python3.6/dist-packages/sklearn/linear_model/logistic.py:432: FutureWarning: Default solver will be changed to 'lbfgs' in 0.22. Specify a solver to silence this warning.\n",
            "  FutureWarning)\n",
            "/usr/local/lib/python3.6/dist-packages/sklearn/linear_model/logistic.py:432: FutureWarning: Default solver will be changed to 'lbfgs' in 0.22. Specify a solver to silence this warning.\n",
            "  FutureWarning)\n",
            "/usr/local/lib/python3.6/dist-packages/sklearn/linear_model/logistic.py:432: FutureWarning: Default solver will be changed to 'lbfgs' in 0.22. Specify a solver to silence this warning.\n",
            "  FutureWarning)\n",
            "/usr/local/lib/python3.6/dist-packages/sklearn/linear_model/logistic.py:432: FutureWarning: Default solver will be changed to 'lbfgs' in 0.22. Specify a solver to silence this warning.\n",
            "  FutureWarning)\n",
            "/usr/local/lib/python3.6/dist-packages/sklearn/linear_model/logistic.py:432: FutureWarning: Default solver will be changed to 'lbfgs' in 0.22. Specify a solver to silence this warning.\n",
            "  FutureWarning)\n",
            "/usr/local/lib/python3.6/dist-packages/sklearn/linear_model/logistic.py:432: FutureWarning: Default solver will be changed to 'lbfgs' in 0.22. Specify a solver to silence this warning.\n",
            "  FutureWarning)\n",
            "/usr/local/lib/python3.6/dist-packages/sklearn/linear_model/logistic.py:432: FutureWarning: Default solver will be changed to 'lbfgs' in 0.22. Specify a solver to silence this warning.\n",
            "  FutureWarning)\n",
            "/usr/local/lib/python3.6/dist-packages/sklearn/linear_model/logistic.py:432: FutureWarning: Default solver will be changed to 'lbfgs' in 0.22. Specify a solver to silence this warning.\n",
            "  FutureWarning)\n",
            "/usr/local/lib/python3.6/dist-packages/sklearn/linear_model/logistic.py:432: FutureWarning: Default solver will be changed to 'lbfgs' in 0.22. Specify a solver to silence this warning.\n",
            "  FutureWarning)\n",
            "/usr/local/lib/python3.6/dist-packages/sklearn/linear_model/logistic.py:432: FutureWarning: Default solver will be changed to 'lbfgs' in 0.22. Specify a solver to silence this warning.\n",
            "  FutureWarning)\n",
            "/usr/local/lib/python3.6/dist-packages/sklearn/linear_model/logistic.py:432: FutureWarning: Default solver will be changed to 'lbfgs' in 0.22. Specify a solver to silence this warning.\n",
            "  FutureWarning)\n",
            "/usr/local/lib/python3.6/dist-packages/sklearn/linear_model/logistic.py:432: FutureWarning: Default solver will be changed to 'lbfgs' in 0.22. Specify a solver to silence this warning.\n",
            "  FutureWarning)\n",
            "/usr/local/lib/python3.6/dist-packages/sklearn/linear_model/logistic.py:432: FutureWarning: Default solver will be changed to 'lbfgs' in 0.22. Specify a solver to silence this warning.\n",
            "  FutureWarning)\n",
            "/usr/local/lib/python3.6/dist-packages/sklearn/linear_model/logistic.py:432: FutureWarning: Default solver will be changed to 'lbfgs' in 0.22. Specify a solver to silence this warning.\n",
            "  FutureWarning)\n",
            "/usr/local/lib/python3.6/dist-packages/sklearn/linear_model/logistic.py:432: FutureWarning: Default solver will be changed to 'lbfgs' in 0.22. Specify a solver to silence this warning.\n",
            "  FutureWarning)\n",
            "/usr/local/lib/python3.6/dist-packages/sklearn/linear_model/logistic.py:432: FutureWarning: Default solver will be changed to 'lbfgs' in 0.22. Specify a solver to silence this warning.\n",
            "  FutureWarning)\n"
          ],
          "name": "stderr"
        }
      ]
    },
    {
      "cell_type": "code",
      "metadata": {
        "id": "tYEWA7XF9ZBV",
        "colab_type": "code",
        "outputId": "e5ae88cc-54b6-4223-eaea-0434df951078",
        "colab": {
          "base_uri": "https://localhost:8080/",
          "height": 1000
        }
      },
      "source": [
        "# printing summaries for the selection of attributes\n",
        "print(rfe.support_)\n",
        "print(rfe.ranking_)\n",
        "ranks = pd.DataFrame(rfe.ranking_)\n",
        "cols = pd.DataFrame(X.columns)\n",
        "rfe_scores = pd.concat([cols, ranks], axis = 1)\n",
        "rfe_scores.columns = [\"feature\", \"score\"]\n",
        "rfe_scores\n"
      ],
      "execution_count": 0,
      "outputs": [
        {
          "output_type": "stream",
          "text": [
            "[False  True False  True False  True  True  True False  True  True False\n",
            "  True False  True  True False  True  True  True  True False False False\n",
            "  True  True  True  True  True False False False False False  True  True\n",
            "  True False  True False False  True False  True  True False  True False\n",
            "  True False False False False False False False False]\n",
            "[29  1  2  1  4  1  1  1 26  1  1 15  1  5  1  1 16  1  1  1  1 19 20 13\n",
            "  1  1  1  1  1 10  8  7  9 11  1  1  1 12  1 14 21  1 23  1  1 27  1  6\n",
            "  1 30 24 25 22 18  3 17 28]\n"
          ],
          "name": "stdout"
        },
        {
          "output_type": "execute_result",
          "data": {
            "text/html": [
              "<div>\n",
              "<style scoped>\n",
              "    .dataframe tbody tr th:only-of-type {\n",
              "        vertical-align: middle;\n",
              "    }\n",
              "\n",
              "    .dataframe tbody tr th {\n",
              "        vertical-align: top;\n",
              "    }\n",
              "\n",
              "    .dataframe thead th {\n",
              "        text-align: right;\n",
              "    }\n",
              "</style>\n",
              "<table border=\"1\" class=\"dataframe\">\n",
              "  <thead>\n",
              "    <tr style=\"text-align: right;\">\n",
              "      <th></th>\n",
              "      <th>feature</th>\n",
              "      <th>score</th>\n",
              "    </tr>\n",
              "  </thead>\n",
              "  <tbody>\n",
              "    <tr>\n",
              "      <th>0</th>\n",
              "      <td>n_tokens_title</td>\n",
              "      <td>29</td>\n",
              "    </tr>\n",
              "    <tr>\n",
              "      <th>1</th>\n",
              "      <td>n_tokens_content</td>\n",
              "      <td>1</td>\n",
              "    </tr>\n",
              "    <tr>\n",
              "      <th>2</th>\n",
              "      <td>n_unique_tokens</td>\n",
              "      <td>2</td>\n",
              "    </tr>\n",
              "    <tr>\n",
              "      <th>3</th>\n",
              "      <td>n_non_stop_words</td>\n",
              "      <td>1</td>\n",
              "    </tr>\n",
              "    <tr>\n",
              "      <th>4</th>\n",
              "      <td>n_non_stop_unique_tokens</td>\n",
              "      <td>4</td>\n",
              "    </tr>\n",
              "    <tr>\n",
              "      <th>5</th>\n",
              "      <td>num_hrefs</td>\n",
              "      <td>1</td>\n",
              "    </tr>\n",
              "    <tr>\n",
              "      <th>6</th>\n",
              "      <td>num_self_hrefs</td>\n",
              "      <td>1</td>\n",
              "    </tr>\n",
              "    <tr>\n",
              "      <th>7</th>\n",
              "      <td>num_imgs</td>\n",
              "      <td>1</td>\n",
              "    </tr>\n",
              "    <tr>\n",
              "      <th>8</th>\n",
              "      <td>num_videos</td>\n",
              "      <td>26</td>\n",
              "    </tr>\n",
              "    <tr>\n",
              "      <th>9</th>\n",
              "      <td>average_token_length</td>\n",
              "      <td>1</td>\n",
              "    </tr>\n",
              "    <tr>\n",
              "      <th>10</th>\n",
              "      <td>num_keywords</td>\n",
              "      <td>1</td>\n",
              "    </tr>\n",
              "    <tr>\n",
              "      <th>11</th>\n",
              "      <td>data_channel_is_lifestyle</td>\n",
              "      <td>15</td>\n",
              "    </tr>\n",
              "    <tr>\n",
              "      <th>12</th>\n",
              "      <td>data_channel_is_entertainment</td>\n",
              "      <td>1</td>\n",
              "    </tr>\n",
              "    <tr>\n",
              "      <th>13</th>\n",
              "      <td>data_channel_is_bus</td>\n",
              "      <td>5</td>\n",
              "    </tr>\n",
              "    <tr>\n",
              "      <th>14</th>\n",
              "      <td>data_channel_is_socmed</td>\n",
              "      <td>1</td>\n",
              "    </tr>\n",
              "    <tr>\n",
              "      <th>15</th>\n",
              "      <td>data_channel_is_tech</td>\n",
              "      <td>1</td>\n",
              "    </tr>\n",
              "    <tr>\n",
              "      <th>16</th>\n",
              "      <td>data_channel_is_world</td>\n",
              "      <td>16</td>\n",
              "    </tr>\n",
              "    <tr>\n",
              "      <th>17</th>\n",
              "      <td>kw_min_min</td>\n",
              "      <td>1</td>\n",
              "    </tr>\n",
              "    <tr>\n",
              "      <th>18</th>\n",
              "      <td>kw_max_min</td>\n",
              "      <td>1</td>\n",
              "    </tr>\n",
              "    <tr>\n",
              "      <th>19</th>\n",
              "      <td>kw_avg_min</td>\n",
              "      <td>1</td>\n",
              "    </tr>\n",
              "    <tr>\n",
              "      <th>20</th>\n",
              "      <td>kw_min_max</td>\n",
              "      <td>1</td>\n",
              "    </tr>\n",
              "    <tr>\n",
              "      <th>21</th>\n",
              "      <td>kw_max_max</td>\n",
              "      <td>19</td>\n",
              "    </tr>\n",
              "    <tr>\n",
              "      <th>22</th>\n",
              "      <td>kw_avg_max</td>\n",
              "      <td>20</td>\n",
              "    </tr>\n",
              "    <tr>\n",
              "      <th>23</th>\n",
              "      <td>kw_min_avg</td>\n",
              "      <td>13</td>\n",
              "    </tr>\n",
              "    <tr>\n",
              "      <th>24</th>\n",
              "      <td>kw_max_avg</td>\n",
              "      <td>1</td>\n",
              "    </tr>\n",
              "    <tr>\n",
              "      <th>25</th>\n",
              "      <td>kw_avg_avg</td>\n",
              "      <td>1</td>\n",
              "    </tr>\n",
              "    <tr>\n",
              "      <th>26</th>\n",
              "      <td>self_reference_min_shares</td>\n",
              "      <td>1</td>\n",
              "    </tr>\n",
              "    <tr>\n",
              "      <th>27</th>\n",
              "      <td>self_reference_max_shares</td>\n",
              "      <td>1</td>\n",
              "    </tr>\n",
              "    <tr>\n",
              "      <th>28</th>\n",
              "      <td>self_reference_avg_sharess</td>\n",
              "      <td>1</td>\n",
              "    </tr>\n",
              "    <tr>\n",
              "      <th>29</th>\n",
              "      <td>weekday_is_monday</td>\n",
              "      <td>10</td>\n",
              "    </tr>\n",
              "    <tr>\n",
              "      <th>30</th>\n",
              "      <td>weekday_is_tuesday</td>\n",
              "      <td>8</td>\n",
              "    </tr>\n",
              "    <tr>\n",
              "      <th>31</th>\n",
              "      <td>weekday_is_wednesday</td>\n",
              "      <td>7</td>\n",
              "    </tr>\n",
              "    <tr>\n",
              "      <th>32</th>\n",
              "      <td>weekday_is_thursday</td>\n",
              "      <td>9</td>\n",
              "    </tr>\n",
              "    <tr>\n",
              "      <th>33</th>\n",
              "      <td>weekday_is_friday</td>\n",
              "      <td>11</td>\n",
              "    </tr>\n",
              "    <tr>\n",
              "      <th>34</th>\n",
              "      <td>weekday_is_saturday</td>\n",
              "      <td>1</td>\n",
              "    </tr>\n",
              "    <tr>\n",
              "      <th>35</th>\n",
              "      <td>weekday_is_sunday</td>\n",
              "      <td>1</td>\n",
              "    </tr>\n",
              "    <tr>\n",
              "      <th>36</th>\n",
              "      <td>LDA_00</td>\n",
              "      <td>1</td>\n",
              "    </tr>\n",
              "    <tr>\n",
              "      <th>37</th>\n",
              "      <td>LDA_01</td>\n",
              "      <td>12</td>\n",
              "    </tr>\n",
              "    <tr>\n",
              "      <th>38</th>\n",
              "      <td>LDA_02</td>\n",
              "      <td>1</td>\n",
              "    </tr>\n",
              "    <tr>\n",
              "      <th>39</th>\n",
              "      <td>LDA_03</td>\n",
              "      <td>14</td>\n",
              "    </tr>\n",
              "    <tr>\n",
              "      <th>40</th>\n",
              "      <td>LDA_04</td>\n",
              "      <td>21</td>\n",
              "    </tr>\n",
              "    <tr>\n",
              "      <th>41</th>\n",
              "      <td>global_subjectivity</td>\n",
              "      <td>1</td>\n",
              "    </tr>\n",
              "    <tr>\n",
              "      <th>42</th>\n",
              "      <td>global_sentiment_polarity</td>\n",
              "      <td>23</td>\n",
              "    </tr>\n",
              "    <tr>\n",
              "      <th>43</th>\n",
              "      <td>global_rate_positive_words</td>\n",
              "      <td>1</td>\n",
              "    </tr>\n",
              "    <tr>\n",
              "      <th>44</th>\n",
              "      <td>global_rate_negative_words</td>\n",
              "      <td>1</td>\n",
              "    </tr>\n",
              "    <tr>\n",
              "      <th>45</th>\n",
              "      <td>rate_positive_words</td>\n",
              "      <td>27</td>\n",
              "    </tr>\n",
              "    <tr>\n",
              "      <th>46</th>\n",
              "      <td>rate_negative_words</td>\n",
              "      <td>1</td>\n",
              "    </tr>\n",
              "    <tr>\n",
              "      <th>47</th>\n",
              "      <td>avg_positive_polarity</td>\n",
              "      <td>6</td>\n",
              "    </tr>\n",
              "    <tr>\n",
              "      <th>48</th>\n",
              "      <td>min_positive_polarity</td>\n",
              "      <td>1</td>\n",
              "    </tr>\n",
              "    <tr>\n",
              "      <th>49</th>\n",
              "      <td>max_positive_polarity</td>\n",
              "      <td>30</td>\n",
              "    </tr>\n",
              "    <tr>\n",
              "      <th>50</th>\n",
              "      <td>avg_negative_polarity</td>\n",
              "      <td>24</td>\n",
              "    </tr>\n",
              "    <tr>\n",
              "      <th>51</th>\n",
              "      <td>min_negative_polarity</td>\n",
              "      <td>25</td>\n",
              "    </tr>\n",
              "    <tr>\n",
              "      <th>52</th>\n",
              "      <td>max_negative_polarity</td>\n",
              "      <td>22</td>\n",
              "    </tr>\n",
              "    <tr>\n",
              "      <th>53</th>\n",
              "      <td>title_subjectivity</td>\n",
              "      <td>18</td>\n",
              "    </tr>\n",
              "    <tr>\n",
              "      <th>54</th>\n",
              "      <td>title_sentiment_polarity</td>\n",
              "      <td>3</td>\n",
              "    </tr>\n",
              "    <tr>\n",
              "      <th>55</th>\n",
              "      <td>abs_title_subjectivity</td>\n",
              "      <td>17</td>\n",
              "    </tr>\n",
              "    <tr>\n",
              "      <th>56</th>\n",
              "      <td>abs_title_sentiment_polarity</td>\n",
              "      <td>28</td>\n",
              "    </tr>\n",
              "  </tbody>\n",
              "</table>\n",
              "</div>"
            ],
            "text/plain": [
              "                          feature  score\n",
              "0                  n_tokens_title     29\n",
              "1                n_tokens_content      1\n",
              "2                 n_unique_tokens      2\n",
              "3                n_non_stop_words      1\n",
              "4        n_non_stop_unique_tokens      4\n",
              "5                       num_hrefs      1\n",
              "6                  num_self_hrefs      1\n",
              "7                        num_imgs      1\n",
              "8                      num_videos     26\n",
              "9            average_token_length      1\n",
              "10                   num_keywords      1\n",
              "11      data_channel_is_lifestyle     15\n",
              "12  data_channel_is_entertainment      1\n",
              "13            data_channel_is_bus      5\n",
              "14         data_channel_is_socmed      1\n",
              "15           data_channel_is_tech      1\n",
              "16          data_channel_is_world     16\n",
              "17                     kw_min_min      1\n",
              "18                     kw_max_min      1\n",
              "19                     kw_avg_min      1\n",
              "20                     kw_min_max      1\n",
              "21                     kw_max_max     19\n",
              "22                     kw_avg_max     20\n",
              "23                     kw_min_avg     13\n",
              "24                     kw_max_avg      1\n",
              "25                     kw_avg_avg      1\n",
              "26      self_reference_min_shares      1\n",
              "27      self_reference_max_shares      1\n",
              "28     self_reference_avg_sharess      1\n",
              "29              weekday_is_monday     10\n",
              "30             weekday_is_tuesday      8\n",
              "31           weekday_is_wednesday      7\n",
              "32            weekday_is_thursday      9\n",
              "33              weekday_is_friday     11\n",
              "34            weekday_is_saturday      1\n",
              "35              weekday_is_sunday      1\n",
              "36                         LDA_00      1\n",
              "37                         LDA_01     12\n",
              "38                         LDA_02      1\n",
              "39                         LDA_03     14\n",
              "40                         LDA_04     21\n",
              "41            global_subjectivity      1\n",
              "42      global_sentiment_polarity     23\n",
              "43     global_rate_positive_words      1\n",
              "44     global_rate_negative_words      1\n",
              "45            rate_positive_words     27\n",
              "46            rate_negative_words      1\n",
              "47          avg_positive_polarity      6\n",
              "48          min_positive_polarity      1\n",
              "49          max_positive_polarity     30\n",
              "50          avg_negative_polarity     24\n",
              "51          min_negative_polarity     25\n",
              "52          max_negative_polarity     22\n",
              "53             title_subjectivity     18\n",
              "54       title_sentiment_polarity      3\n",
              "55         abs_title_subjectivity     17\n",
              "56   abs_title_sentiment_polarity     28"
            ]
          },
          "metadata": {
            "tags": []
          },
          "execution_count": 19
        }
      ]
    },
    {
      "cell_type": "code",
      "metadata": {
        "id": "rW_TrchS9Y7k",
        "colab_type": "code",
        "colab": {}
      },
      "source": [
        "X_rfe = X[['n_tokens_content','n_non_stop_words','num_hrefs','num_self_hrefs','num_imgs','average_token_length','num_keywords','data_channel_is_entertainment','data_channel_is_socmed','data_channel_is_tech','kw_min_min','kw_max_min','kw_avg_min','kw_min_max','kw_max_avg','kw_avg_avg','self_reference_min_shares','self_reference_max_shares','self_reference_avg_sharess','weekday_is_saturday','weekday_is_sunday','LDA_00','LDA_02','global_subjectivity','global_rate_positive_words','global_rate_negative_words','rate_negative_words','min_positive_polarity']]\n"
      ],
      "execution_count": 0,
      "outputs": []
    },
    {
      "cell_type": "code",
      "metadata": {
        "id": "-54Eqocn9Y1G",
        "colab_type": "code",
        "outputId": "62f3f71b-91c7-4793-fde3-c7d18d24f520",
        "colab": {
          "base_uri": "https://localhost:8080/",
          "height": 207
        }
      },
      "source": [
        "x_train3, x_test3, y_train3, y_test3 = train_test_split(X_rfe, Y, test_size = 0.3, random_state = 1)\n",
        "#fitting the classifier\n",
        "log4 = LogisticRegression()\n",
        "log4.fit(x_train3, y_train3)\n",
        "y_pred3 = log4.predict(x_test3)\n",
        "pd.DataFrame(data=[accuracy_score(y_test3, y_pred3), recall_score(y_test3, y_pred3),\n",
        "                   precision_score(y_test3, y_pred3), roc_auc_score(y_test3, y_pred3)], \n",
        "             index=[\"accuracy\", \"recall\", \"precision\", \"roc_auc_score\"])\n"
      ],
      "execution_count": 0,
      "outputs": [
        {
          "output_type": "stream",
          "text": [
            "/usr/local/lib/python3.6/dist-packages/sklearn/linear_model/logistic.py:432: FutureWarning: Default solver will be changed to 'lbfgs' in 0.22. Specify a solver to silence this warning.\n",
            "  FutureWarning)\n"
          ],
          "name": "stderr"
        },
        {
          "output_type": "execute_result",
          "data": {
            "text/html": [
              "<div>\n",
              "<style scoped>\n",
              "    .dataframe tbody tr th:only-of-type {\n",
              "        vertical-align: middle;\n",
              "    }\n",
              "\n",
              "    .dataframe tbody tr th {\n",
              "        vertical-align: top;\n",
              "    }\n",
              "\n",
              "    .dataframe thead th {\n",
              "        text-align: right;\n",
              "    }\n",
              "</style>\n",
              "<table border=\"1\" class=\"dataframe\">\n",
              "  <thead>\n",
              "    <tr style=\"text-align: right;\">\n",
              "      <th></th>\n",
              "      <th>0</th>\n",
              "    </tr>\n",
              "  </thead>\n",
              "  <tbody>\n",
              "    <tr>\n",
              "      <th>accuracy</th>\n",
              "      <td>0.651936</td>\n",
              "    </tr>\n",
              "    <tr>\n",
              "      <th>recall</th>\n",
              "      <td>0.707485</td>\n",
              "    </tr>\n",
              "    <tr>\n",
              "      <th>precision</th>\n",
              "      <td>0.666667</td>\n",
              "    </tr>\n",
              "    <tr>\n",
              "      <th>roc_auc_score</th>\n",
              "      <td>0.647290</td>\n",
              "    </tr>\n",
              "  </tbody>\n",
              "</table>\n",
              "</div>"
            ],
            "text/plain": [
              "                      0\n",
              "accuracy       0.651936\n",
              "recall         0.707485\n",
              "precision      0.666667\n",
              "roc_auc_score  0.647290"
            ]
          },
          "metadata": {
            "tags": []
          },
          "execution_count": 21
        }
      ]
    },
    {
      "cell_type": "code",
      "metadata": {
        "id": "voOk9wxO_4MI",
        "colab_type": "code",
        "outputId": "610147a0-8591-4808-91a1-2c809a89c9e8",
        "colab": {
          "base_uri": "https://localhost:8080/",
          "height": 34
        }
      },
      "source": [
        "y_pred3l = log4.predict_proba(x_test3)\n",
        "log_loss(y_test3, y_pred3l, eps=1e-15, normalize=True, sample_weight=None, labels=None)    \n",
        "#We are getting a logloss of 0.62\n"
      ],
      "execution_count": 0,
      "outputs": [
        {
          "output_type": "execute_result",
          "data": {
            "text/plain": [
              "0.6289101831494195"
            ]
          },
          "metadata": {
            "tags": []
          },
          "execution_count": 24
        }
      ]
    },
    {
      "cell_type": "code",
      "metadata": {
        "id": "kWSqvT909Yok",
        "colab_type": "code",
        "outputId": "2490b2a6-94d5-4062-f9ce-09c100520ead",
        "colab": {
          "base_uri": "https://localhost:8080/",
          "height": 34
        }
      },
      "source": [
        "y_pred4l = log5.predict_proba(x_test4)\n",
        "log_loss(y_test4, y_pred4l, eps=1e-15, normalize=True, sample_weight=None, labels=None)    \n"
      ],
      "execution_count": 0,
      "outputs": [
        {
          "output_type": "execute_result",
          "data": {
            "text/plain": [
              "0.6289101206122159"
            ]
          },
          "metadata": {
            "tags": []
          },
          "execution_count": 23
        }
      ]
    },
    {
      "cell_type": "code",
      "metadata": {
        "id": "GUdXA_YA9Yhr",
        "colab_type": "code",
        "outputId": "e9b84b5a-26a8-4834-ce4a-f2dcd4a27df7",
        "colab": {
          "base_uri": "https://localhost:8080/",
          "height": 207
        }
      },
      "source": [
        "\"\"\" changing the threshold value  \"\"\"\n",
        "\n",
        "x_train5, x_test5, y_train5, y_test5 = train_test_split(X_rfe, Y, test_size = 0.3, random_state = 1)\n",
        "\n",
        "\n",
        "X_rfe, Y = make_classification(\n",
        "    n_classes=2, class_sep=1.5, weights=[0.9, 0.1],\n",
        "    n_features=20, n_samples=1000, random_state=10\n",
        ")\n",
        "\n",
        "log6 = LogisticRegression(class_weight=\"balanced\")\n",
        "log6.fit(x_train5, y_train5)\n",
        "THRESHOLD = 0.25\n",
        "y_pred5 = np.where(log6.predict_proba(x_test5)[:,1] > THRESHOLD, 1, 0)\n",
        "pd.DataFrame(data=[accuracy_score(y_test5, y_pred5), recall_score(y_test5, y_pred5),\n",
        "                   precision_score(y_test5, y_pred5), roc_auc_score(y_test5, y_pred5)], \n",
        "             index=[\"accuracy\", \"recall\", \"precision\", \"roc_auc_score\"])\n"
      ],
      "execution_count": 0,
      "outputs": [
        {
          "output_type": "stream",
          "text": [
            "/usr/local/lib/python3.6/dist-packages/sklearn/linear_model/logistic.py:432: FutureWarning: Default solver will be changed to 'lbfgs' in 0.22. Specify a solver to silence this warning.\n",
            "  FutureWarning)\n"
          ],
          "name": "stderr"
        },
        {
          "output_type": "execute_result",
          "data": {
            "text/html": [
              "<div>\n",
              "<style scoped>\n",
              "    .dataframe tbody tr th:only-of-type {\n",
              "        vertical-align: middle;\n",
              "    }\n",
              "\n",
              "    .dataframe tbody tr th {\n",
              "        vertical-align: top;\n",
              "    }\n",
              "\n",
              "    .dataframe thead th {\n",
              "        text-align: right;\n",
              "    }\n",
              "</style>\n",
              "<table border=\"1\" class=\"dataframe\">\n",
              "  <thead>\n",
              "    <tr style=\"text-align: right;\">\n",
              "      <th></th>\n",
              "      <th>0</th>\n",
              "    </tr>\n",
              "  </thead>\n",
              "  <tbody>\n",
              "    <tr>\n",
              "      <th>accuracy</th>\n",
              "      <td>0.560934</td>\n",
              "    </tr>\n",
              "    <tr>\n",
              "      <th>recall</th>\n",
              "      <td>0.982148</td>\n",
              "    </tr>\n",
              "    <tr>\n",
              "      <th>precision</th>\n",
              "      <td>0.551918</td>\n",
              "    </tr>\n",
              "    <tr>\n",
              "      <th>roc_auc_score</th>\n",
              "      <td>0.525711</td>\n",
              "    </tr>\n",
              "  </tbody>\n",
              "</table>\n",
              "</div>"
            ],
            "text/plain": [
              "                      0\n",
              "accuracy       0.560934\n",
              "recall         0.982148\n",
              "precision      0.551918\n",
              "roc_auc_score  0.525711"
            ]
          },
          "metadata": {
            "tags": []
          },
          "execution_count": 25
        }
      ]
    },
    {
      "cell_type": "code",
      "metadata": {
        "colab_type": "code",
        "outputId": "c28c8c78-97ae-48ca-e236-8adf8c5a35d0",
        "id": "nv3w0TFXWtIm",
        "colab": {
          "base_uri": "https://localhost:8080/",
          "height": 207
        }
      },
      "source": [
        "#trying for another threshold value\n",
        "log7 = LogisticRegression(class_weight=\"balanced\")\n",
        "log7.fit(x_train5, y_train5)\n",
        "THRESHOLD = 0.75\n",
        "y_preddd = np.where(log7.predict_proba(x_test5)[:,1] > THRESHOLD, 1, 0)\n",
        "pd.DataFrame(data=[accuracy_score(y_test5, y_pred5), recall_score(y_test5, y_pred5),\n",
        "                   precision_score(y_test5, y_pred5), roc_auc_score(y_test5, y_pred5)], \n",
        "             index=[\"accuracy\", \"recall\", \"precision\", \"roc_auc_score\"])\n"
      ],
      "execution_count": 0,
      "outputs": [
        {
          "output_type": "stream",
          "text": [
            "/usr/local/lib/python3.6/dist-packages/sklearn/linear_model/logistic.py:432: FutureWarning: Default solver will be changed to 'lbfgs' in 0.22. Specify a solver to silence this warning.\n",
            "  FutureWarning)\n"
          ],
          "name": "stderr"
        },
        {
          "output_type": "execute_result",
          "data": {
            "text/html": [
              "<div>\n",
              "<style scoped>\n",
              "    .dataframe tbody tr th:only-of-type {\n",
              "        vertical-align: middle;\n",
              "    }\n",
              "\n",
              "    .dataframe tbody tr th {\n",
              "        vertical-align: top;\n",
              "    }\n",
              "\n",
              "    .dataframe thead th {\n",
              "        text-align: right;\n",
              "    }\n",
              "</style>\n",
              "<table border=\"1\" class=\"dataframe\">\n",
              "  <thead>\n",
              "    <tr style=\"text-align: right;\">\n",
              "      <th></th>\n",
              "      <th>0</th>\n",
              "    </tr>\n",
              "  </thead>\n",
              "  <tbody>\n",
              "    <tr>\n",
              "      <th>accuracy</th>\n",
              "      <td>0.560934</td>\n",
              "    </tr>\n",
              "    <tr>\n",
              "      <th>recall</th>\n",
              "      <td>0.982148</td>\n",
              "    </tr>\n",
              "    <tr>\n",
              "      <th>precision</th>\n",
              "      <td>0.551918</td>\n",
              "    </tr>\n",
              "    <tr>\n",
              "      <th>roc_auc_score</th>\n",
              "      <td>0.525711</td>\n",
              "    </tr>\n",
              "  </tbody>\n",
              "</table>\n",
              "</div>"
            ],
            "text/plain": [
              "                      0\n",
              "accuracy       0.560934\n",
              "recall         0.982148\n",
              "precision      0.551918\n",
              "roc_auc_score  0.525711"
            ]
          },
          "metadata": {
            "tags": []
          },
          "execution_count": 26
        }
      ]
    },
    {
      "cell_type": "code",
      "metadata": {
        "id": "8QT0hCXHBozA",
        "colab_type": "code",
        "outputId": "9483878a-057b-450c-d037-0009cc9558b0",
        "colab": {
          "base_uri": "https://localhost:8080/",
          "height": 173
        }
      },
      "source": [
        "\"\"\" RandomForestClassifier \"\"\" \n",
        "xtrain7, xtest7, ytrain7, ytest7 = train_test_split(X_rfe, Y, test_size = 0.3, random_state =1)\n",
        "RFC = RandomForestClassifier(n_estimators = 300, criterion = \"entropy\", random_state = 12)\n",
        "RFC.fit(xtrain7, ytrain7)\n",
        "y_pred7 = RFC.predict(xtest7)\n",
        "pd.DataFrame(data=[accuracy_score(ytest7, y_pred7), recall_score(ytest7, y_pred7),\n",
        "                   precision_score(ytest7, y_pred7), roc_auc_score(ytest7, y_pred7)], \n",
        "             index=[\"accuracy\", \"recall\", \"precision\", \"roc_auc_score\"])\n"
      ],
      "execution_count": 0,
      "outputs": [
        {
          "output_type": "execute_result",
          "data": {
            "text/html": [
              "<div>\n",
              "<style scoped>\n",
              "    .dataframe tbody tr th:only-of-type {\n",
              "        vertical-align: middle;\n",
              "    }\n",
              "\n",
              "    .dataframe tbody tr th {\n",
              "        vertical-align: top;\n",
              "    }\n",
              "\n",
              "    .dataframe thead th {\n",
              "        text-align: right;\n",
              "    }\n",
              "</style>\n",
              "<table border=\"1\" class=\"dataframe\">\n",
              "  <thead>\n",
              "    <tr style=\"text-align: right;\">\n",
              "      <th></th>\n",
              "      <th>0</th>\n",
              "    </tr>\n",
              "  </thead>\n",
              "  <tbody>\n",
              "    <tr>\n",
              "      <th>accuracy</th>\n",
              "      <td>0.983333</td>\n",
              "    </tr>\n",
              "    <tr>\n",
              "      <th>recall</th>\n",
              "      <td>0.909091</td>\n",
              "    </tr>\n",
              "    <tr>\n",
              "      <th>precision</th>\n",
              "      <td>0.937500</td>\n",
              "    </tr>\n",
              "    <tr>\n",
              "      <th>roc_auc_score</th>\n",
              "      <td>0.950800</td>\n",
              "    </tr>\n",
              "  </tbody>\n",
              "</table>\n",
              "</div>"
            ],
            "text/plain": [
              "                      0\n",
              "accuracy       0.983333\n",
              "recall         0.909091\n",
              "precision      0.937500\n",
              "roc_auc_score  0.950800"
            ]
          },
          "metadata": {
            "tags": []
          },
          "execution_count": 32
        }
      ]
    },
    {
      "cell_type": "code",
      "metadata": {
        "id": "4edhd5C2B0RY",
        "colab_type": "code",
        "outputId": "fd21ee9a-7111-4031-9e22-fc74496afea8",
        "colab": {
          "base_uri": "https://localhost:8080/",
          "height": 34
        }
      },
      "source": [
        "y_pred7l = RFC.predict_proba(xtest7)\n",
        "log_loss(ytest7, y_pred7l, eps=1e-15, normalize=True, sample_weight=None, labels=None)    \n"
      ],
      "execution_count": 0,
      "outputs": [
        {
          "output_type": "execute_result",
          "data": {
            "text/plain": [
              "0.186321557674618"
            ]
          },
          "metadata": {
            "tags": []
          },
          "execution_count": 33
        }
      ]
    },
    {
      "cell_type": "code",
      "metadata": {
        "id": "CtgFpKGfB3Bd",
        "colab_type": "code",
        "colab": {}
      },
      "source": [
        ""
      ],
      "execution_count": 0,
      "outputs": []
    }
  ]
}